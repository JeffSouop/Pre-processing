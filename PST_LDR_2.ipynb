{
 "cells": [
  {
   "cell_type": "markdown",
   "source": [
    "# Import des modules"
   ],
   "metadata": {
    "collapsed": false
   }
  },
  {
   "cell_type": "code",
   "execution_count": 6,
   "outputs": [],
   "source": [
    "import cv2\n",
    "import os\n",
    "import numpy as np"
   ],
   "metadata": {
    "collapsed": false
   }
  },
  {
   "cell_type": "markdown",
   "source": [
    "# Appels des directory"
   ],
   "metadata": {
    "collapsed": false
   }
  },
  {
   "cell_type": "code",
   "execution_count": 7,
   "outputs": [],
   "source": [
    "input_dir = \"C:\\\\Users\\\\willy\\\\OneDrive\\\\Bureau\\\\test_egalisation\"\n",
    "output_dir_clear = \"C:\\\\Users\\\\willy\\\\OneDrive\\\\Bureau\\\\sauvegarde\"\n",
    "output_dir_obstructed = \"C:\\\\Users\\\\willy\\\\OneDrive\\\\Bureau\\\\corbeille\""
   ],
   "metadata": {
    "collapsed": false
   }
  },
  {
   "cell_type": "markdown",
   "source": [
    "# Fonction d'egalisation\n",
    "* Egalisation d'histogramme"
   ],
   "metadata": {
    "collapsed": false
   }
  },
  {
   "cell_type": "code",
   "execution_count": 8,
   "outputs": [],
   "source": [
    "\n",
    "def brighten_imageS(input_dir):\n",
    "    # Parcourir les images dans le dossier d'entrée\n",
    "    for filename in os.listdir(input_dir):\n",
    "        # Vérifier que le fichier est une image\n",
    "        if filename.endswith(\".jpg\") or filename.endswith(\".jpeg\") or filename.endswith(\".png\"):\n",
    "            # Charger l'image\n",
    "            image = cv2.imread(os.path.join(input_dir, filename))\n",
    "\n",
    "            # Appliquer l'égalisation d'histogramme sur les canaux RGB\n",
    "            R, G, B = cv2.split(image)\n",
    "            output1_R = cv2.equalizeHist(R)\n",
    "            output1_G = cv2.equalizeHist(G)\n",
    "            output1_B = cv2.equalizeHist(B)\n",
    "            output = cv2.merge((output1_R, output1_G, output1_B))\n",
    "\n",
    "            # Enregistrer l'image égalisée dans le même dossier avec le même nom\n",
    "            cv2.imwrite(os.path.join(input_dir, filename), output)\n"
   ],
   "metadata": {
    "collapsed": false
   }
  },
  {
   "cell_type": "markdown",
   "source": [
    "* CLAHE"
   ],
   "metadata": {
    "collapsed": false
   }
  },
  {
   "cell_type": "code",
   "execution_count": 9,
   "outputs": [],
   "source": [
    "def apply_clahe_to_dir(input_dir):\n",
    "    clahe = cv2.createCLAHE(clipLimit=2.0, tileGridSize=(8, 8))\n",
    "\n",
    "    for filename in os.listdir(input_dir):\n",
    "        filepath = os.path.join(input_dir, filename)\n",
    "\n",
    "        if os.path.isfile(filepath):\n",
    "            img = cv2.imread(filepath)\n",
    "            R, G, B = cv2.split(img)\n",
    "            output2_R = clahe.apply(R)\n",
    "            output2_G = clahe.apply(G)\n",
    "            output2_B = clahe.apply(B)\n",
    "            output_2 = cv2.merge((output2_R, output2_G, output2_B))\n",
    "            cv2.imwrite(filepath, output_2)\n"
   ],
   "metadata": {
    "collapsed": false
   }
  },
  {
   "cell_type": "markdown",
   "source": [
    "# Moyenne des pixels"
   ],
   "metadata": {
    "collapsed": false
   }
  },
  {
   "cell_type": "code",
   "execution_count": 12,
   "outputs": [],
   "source": [
    "def isBlackS(dir):\n",
    "\n",
    "    for image in os.listdir(dir):\n",
    "        # Convert to grayscale\n",
    "        img = cv2.imread(os.path.join(dir, image))\n",
    "        gray = cv2.cvtColor(img, cv2.COLOR_BGR2GRAY)\n",
    "        avg = gray.mean(axis=0).mean(axis=0)\n",
    "        #print(avg)\n",
    "        if avg < 50:\n",
    "            #print(str(img) + 'is black' + str(avg) +'\\n' )\n",
    "            cv2.imwrite(os.path.join(output_dir_obstructed, image), img)\n",
    "        else:\n",
    "            cv2.imwrite(os.path.join(output_dir_clear, image), img)"
   ],
   "metadata": {
    "collapsed": false
   }
  },
  {
   "cell_type": "markdown",
   "source": [
    "# Greffe Egalisation & Moyenne"
   ],
   "metadata": {
    "collapsed": false
   }
  },
  {
   "cell_type": "code",
   "execution_count": 11,
   "outputs": [],
   "source": [
    "def final_test(input_dir, output_dir_clear, output_dir_obstructed):\n",
    "    # Apply CLAHE to images in input_dir\n",
    "    clahe = cv2.createCLAHE(clipLimit=2.0, tileGridSize=(8, 8))\n",
    "    for filename in os.listdir(input_dir):\n",
    "        filepath = os.path.join(input_dir, filename)\n",
    "        if os.path.isfile(filepath):\n",
    "            img = cv2.imread(filepath)\n",
    "            R, G, B = cv2.split(img)\n",
    "            output2_R = clahe.apply(R)\n",
    "            output2_G = clahe.apply(G)\n",
    "            output2_B = clahe.apply(B)\n",
    "            output_2 = cv2.merge((output2_R, output2_G, output2_B))\n",
    "            cv2.imwrite(filepath, output_2)\n",
    "\n",
    "    # Sort images in input_dir based on darkness level\n",
    "    for image in os.listdir(input_dir):\n",
    "        # Convert to grayscale\n",
    "        img = cv2.imread(os.path.join(input_dir, image))\n",
    "        gray = cv2.cvtColor(img, cv2.COLOR_BGR2GRAY)\n",
    "        avg = gray.mean(axis=0).mean(axis=0)\n",
    "        if avg < 50:\n",
    "            cv2.imwrite(os.path.join(output_dir_obstructed, image), img)\n",
    "        else:\n",
    "            cv2.imwrite(os.path.join(output_dir_clear, image), img)\n"
   ],
   "metadata": {
    "collapsed": false
   }
  },
  {
   "cell_type": "markdown",
   "source": [
    "# PARTIE TEST\n",
    "* TEST EGALISATION D'HISTOGRAMME"
   ],
   "metadata": {
    "collapsed": false
   }
  },
  {
   "cell_type": "code",
   "execution_count": 4,
   "outputs": [],
   "source": [
    "brighten_imageS(\"C:\\\\Users\\\\willy\\\\OneDrive\\\\Bureau\\\\test_egalisation\")"
   ],
   "metadata": {
    "collapsed": false
   }
  },
  {
   "cell_type": "markdown",
   "source": [
    "* TEST CLAHE"
   ],
   "metadata": {
    "collapsed": false
   }
  },
  {
   "cell_type": "code",
   "execution_count": 10,
   "outputs": [],
   "source": [
    "apply_clahe_to_dir(input_dir)"
   ],
   "metadata": {
    "collapsed": false
   }
  },
  {
   "cell_type": "markdown",
   "source": [
    "* TEST MOYENNE PIXEL"
   ],
   "metadata": {
    "collapsed": false
   }
  },
  {
   "cell_type": "code",
   "execution_count": 13,
   "outputs": [],
   "source": [
    "isBlackS(input_dir)"
   ],
   "metadata": {
    "collapsed": false
   }
  },
  {
   "cell_type": "markdown",
   "source": [
    "* TEST FINAL"
   ],
   "metadata": {
    "collapsed": false
   }
  },
  {
   "cell_type": "code",
   "execution_count": 12,
   "outputs": [],
   "source": [
    "final_test(input_dir, output_dir_clear, output_dir_obstructed)"
   ],
   "metadata": {
    "collapsed": false
   }
  }
 ],
 "metadata": {
  "kernelspec": {
   "display_name": "Python 3",
   "language": "python",
   "name": "python3"
  },
  "language_info": {
   "codemirror_mode": {
    "name": "ipython",
    "version": 2
   },
   "file_extension": ".py",
   "mimetype": "text/x-python",
   "name": "python",
   "nbconvert_exporter": "python",
   "pygments_lexer": "ipython2",
   "version": "2.7.6"
  }
 },
 "nbformat": 4,
 "nbformat_minor": 0
}
